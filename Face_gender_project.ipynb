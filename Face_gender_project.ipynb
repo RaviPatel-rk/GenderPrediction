{
 "cells": [
  {
   "cell_type": "code",
   "execution_count": 1,
   "metadata": {},
   "outputs": [],
   "source": [
    "import cv2"
   ]
  },
  {
   "cell_type": "code",
   "execution_count": 2,
   "metadata": {},
   "outputs": [],
   "source": [
    "model=cv2.CascadeClassifier(\"c:/dataset/haar/haarcascade_frontalface_default.xml\")"
   ]
  },
  {
   "cell_type": "code",
   "execution_count": 3,
   "metadata": {},
   "outputs": [
    {
     "name": "stdout",
     "output_type": "stream",
     "text": [
      "Number of Faces: 1\n"
     ]
    }
   ],
   "source": [
    "img_clr=cv2.imread(\"C:/Users/DELL/Desktop/New folder/WhatsApp Unknown 2021-12-03 at 15.09.05/Ravi-1.jpeg\")\n",
    "img_gray=cv2.cvtColor(img_clr,cv2.COLOR_BGR2GRAY)\n",
    "faces=model.detectMultiScale(img_gray)\n",
    "count=0\n",
    "for x,y,w,h in faces:\n",
    "    count+=1\n",
    "    cv2.rectangle(img_clr,(x,y),(x+w,y+h),(0,0,255),2)\n",
    "print(\"Number of Faces:\",count)    \n",
    "cv2.imshow('face_prediction',img_clr)  \n",
    "cv2.waitKey(0)\n",
    "cv2.destroyAllWindows()"
   ]
  },
  {
   "cell_type": "code",
   "execution_count": 7,
   "metadata": {},
   "outputs": [],
   "source": [
    "vdo=cv2.VideoCapture(\"e:/bahubali.mp4\")\n",
    "while(True):\n",
    "    flag,img=vdo.read()\n",
    "    if(flag==False):\n",
    "        break\n",
    "    else:\n",
    "        img_gray=cv2.cvtColor(img,cv2.COLOR_BGR2GRAY)\n",
    "        faces=model.detectMultiScale(img_gray)\n",
    "        for x,y,w,h in faces:\n",
    "            cv2.rectangle(img,(x,y),(x+w,y+h),(0,0,255),2)\n",
    "        cv2.putText(img,\"press 'q' to end\",(20,20),cv2.FONT_HERSHEY_PLAIN,2,(0,0,255),2)\n",
    "        cv2.imshow('color',img)\n",
    "        key=cv2.waitKey(1)\n",
    "        if(key==ord('q')):\n",
    "            break\n",
    "cv2.destroyAllWindows()\n",
    "vdo.release()"
   ]
  },
  {
   "cell_type": "code",
   "execution_count": 4,
   "metadata": {},
   "outputs": [],
   "source": [
    "vdo=cv2.VideoCapture(0)\n",
    "while(True):\n",
    "    flag,img=vdo.read()\n",
    "    if(flag==False):\n",
    "        break\n",
    "    else:\n",
    "        img_gray=cv2.cvtColor(img,cv2.COLOR_BGR2GRAY)\n",
    "        faces=model.detectMultiScale(img_gray)\n",
    "        for x,y,w,h in faces:\n",
    "            cv2.rectangle(img,(x,y),(x+w,y+h),(0,0,255),2)\n",
    "        cv2.putText(img,\"press 'q' to end\",(20,20),cv2.FONT_HERSHEY_PLAIN,2,(0,0,255),2)\n",
    "        cv2.imshow('color',img)\n",
    "        key=cv2.waitKey(1)\n",
    "        if(key==ord('q')):\n",
    "            break\n",
    "cv2.destroyAllWindows()\n",
    "vdo.release()"
   ]
  },
  {
   "cell_type": "code",
   "execution_count": 5,
   "metadata": {},
   "outputs": [],
   "source": [
    "import os\n",
    "#os.remove(\"gender_images/female/female_152.jpg\")\n",
    "#os.remove(\"gender_images/male/male_152.jpg\")"
   ]
  },
  {
   "cell_type": "code",
   "execution_count": 6,
   "metadata": {},
   "outputs": [],
   "source": [
    "X=[]\n",
    "y=[]\n",
    "img_names=os.listdir(\"gender_images/female\")\n",
    "for img in img_names:\n",
    "    gray=cv2.imread(f\"gender_images/female/{img}\",cv2.IMREAD_GRAYSCALE)\n",
    "    gray=cv2.resize(gray,(90,90))\n",
    "    row=gray.flatten()\n",
    "    X.append(row)\n",
    "    y.append(\"female\")\n",
    "    \n",
    "img_names=os.listdir(\"gender_images/male\")\n",
    "for img in img_names:\n",
    "    gray=cv2.imread(f\"gender_images/male/{img}\",cv2.IMREAD_GRAYSCALE)\n",
    "    gray=cv2.resize(gray,(90,90))\n",
    "    row=gray.flatten()\n",
    "    X.append(row)\n",
    "    y.append(\"male\")    \n",
    "\n",
    "import numpy as np\n",
    "X_train=np.array(X)\n",
    "y_train=np.array(y)"
   ]
  },
  {
   "cell_type": "code",
   "execution_count": 7,
   "metadata": {},
   "outputs": [
    {
     "name": "stdout",
     "output_type": "stream",
     "text": [
      "(300, 8100)\n",
      "(300,)\n"
     ]
    }
   ],
   "source": [
    "print(X_train.shape)\n",
    "print(y_train.shape)"
   ]
  },
  {
   "cell_type": "code",
   "execution_count": 8,
   "metadata": {},
   "outputs": [],
   "source": [
    "from sklearn.decomposition import PCA"
   ]
  },
  {
   "cell_type": "code",
   "execution_count": 9,
   "metadata": {},
   "outputs": [
    {
     "name": "stdout",
     "output_type": "stream",
     "text": [
      "(300, 230)\n"
     ]
    }
   ],
   "source": [
    "pca=PCA(.99)\n",
    "X_train_new=pca.fit_transform(X_train)\n",
    "print(X_train_new.shape)"
   ]
  },
  {
   "cell_type": "code",
   "execution_count": 10,
   "metadata": {},
   "outputs": [],
   "source": [
    "from sklearn.linear_model import LogisticRegression"
   ]
  },
  {
   "cell_type": "code",
   "execution_count": 11,
   "metadata": {},
   "outputs": [
    {
     "data": {
      "text/plain": [
       "LogisticRegression()"
      ]
     },
     "execution_count": 11,
     "metadata": {},
     "output_type": "execute_result"
    }
   ],
   "source": [
    "log=LogisticRegression()\n",
    "log.fit(X_train_new,y_train)"
   ]
  },
  {
   "cell_type": "code",
   "execution_count": 15,
   "metadata": {},
   "outputs": [
    {
     "name": "stdout",
     "output_type": "stream",
     "text": [
      "male\n",
      "male\n",
      "male\n",
      "male\n",
      "male\n",
      "male\n",
      "female\n",
      "male\n",
      "male\n",
      "male\n",
      "male\n",
      "male\n",
      "male\n",
      "male\n",
      "male\n",
      "male\n",
      "female\n",
      "male\n",
      "male\n",
      "male\n",
      "male\n",
      "male\n",
      "female\n",
      "male\n",
      "female\n",
      "male\n",
      "male\n",
      "male\n",
      "female\n"
     ]
    }
   ],
   "source": [
    "\n",
    "#img = cv2.imread(\"C:/Users/DELL/Desktop/New folder/WhatsApp Unknown 2021-12-03 at 15.09.05/Ravi-2.jpeg\")\n",
    "img=cv2.imread(\"C:/Users/DELL/Desktop/checking/group-1.jpeg\")\n",
    "\n",
    "gray=cv2.cvtColor(img,cv2.COLOR_BGR2GRAY)\n",
    "face_model=cv2.CascadeClassifier(\"c:/dataset/haar/haarcascade_frontalface_default.xml\")\n",
    "faces=model.detectMultiScale(gray)\n",
    "for x,y,w,h in faces:\n",
    "    face=gray[y:y+h,x:x+w]\n",
    "    #cv2.imwrite(\"f.jpg\",face)\n",
    "    face=cv2.resize(face,(90,90))\n",
    "    face=face.flatten()\n",
    "    X_test=pca.transform([face])\n",
    "    pred=log.predict(X_test)\n",
    "    print(pred[0])\n",
    "    cv2.rectangle(img,(x,y),(x+w,y+h),(0,0,255),2)\n",
    "    cv2.putText(img,pred[0],(x,y-10),cv2.FONT_HERSHEY_PLAIN,2,(0,255,255),2)\n",
    "cv2.imshow('gender prediction',img)\n",
    "cv2.waitKey(0)\n",
    "cv2.destroyAllWindows()"
   ]
  },
  {
   "cell_type": "code",
   "execution_count": 14,
   "metadata": {},
   "outputs": [],
   "source": [
    "vdo=cv2.VideoCapture(0)\n",
    "while(True):\n",
    "    flag,img=vdo.read()\n",
    "    if(flag==False):\n",
    "        break\n",
    "    else:\n",
    "        img_gray=cv2.cvtColor(img,cv2.COLOR_BGR2GRAY)\n",
    "        face_model=cv2.CascadeClassifier(\"c:/dataset/haar/haarcascade_frontalface_default.xml\")#new thing\n",
    "        faces=model.detectMultiScale(img_gray)\n",
    "       \n",
    "        for x,y,w,h in faces:\n",
    "            cv2.rectangle(img,(x,y),(x+w,y+h),(0,0,255),2)\n",
    "            face=gray[y:y+h,x:x+w]\n",
    "            #cv2.imwrite(\"f.jpg\",face)\n",
    "            face=cv2.resize(face,(90,90))\n",
    "            face=face.flatten()\n",
    "            X_test=pca.transform([face])\n",
    "            pred=log.predict(X_test)\n",
    "           \n",
    "            cv2.rectangle(img,(x,y),(x+w,y+h),(0,0,255),2)\n",
    "            cv2.putText(img,pred[0],(x,y-10),cv2.FONT_HERSHEY_PLAIN,2,(0,255,255),2)\n",
    "        cv2.putText(img,\"press 'q' to end\",(20,20),cv2.FONT_HERSHEY_PLAIN,2,(0,0,255),2)\n",
    "        cv2.imshow('color',img)\n",
    "        key=cv2.waitKey(1)\n",
    "        if(key==ord('q')):\n",
    "            break\n",
    "cv2.destroyAllWindows()\n",
    "vdo.release()"
   ]
  },
  {
   "cell_type": "code",
   "execution_count": null,
   "metadata": {},
   "outputs": [],
   "source": []
  }
 ],
 "metadata": {
  "kernelspec": {
   "display_name": "Python 3",
   "language": "python",
   "name": "python3"
  },
  "language_info": {
   "codemirror_mode": {
    "name": "ipython",
    "version": 3
   },
   "file_extension": ".py",
   "mimetype": "text/x-python",
   "name": "python",
   "nbconvert_exporter": "python",
   "pygments_lexer": "ipython3",
   "version": "3.7.6"
  }
 },
 "nbformat": 4,
 "nbformat_minor": 4
}
